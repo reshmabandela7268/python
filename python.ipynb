{
  "nbformat": 4,
  "nbformat_minor": 0,
  "metadata": {
    "colab": {
      "provenance": [],
      "authorship_tag": "ABX9TyP5ANj4yhXdX7sqh0Vyl6iy",
      "include_colab_link": true
    },
    "kernelspec": {
      "name": "python3",
      "display_name": "Python 3"
    },
    "language_info": {
      "name": "python"
    }
  },
  "cells": [
    {
      "cell_type": "markdown",
      "metadata": {
        "id": "view-in-github",
        "colab_type": "text"
      },
      "source": [
        "<a href=\"https://colab.research.google.com/github/reshmabandela7268/python/blob/main/python.ipynb\" target=\"_parent\"><img src=\"https://colab.research.google.com/assets/colab-badge.svg\" alt=\"Open In Colab\"/></a>"
      ]
    },
    {
      "cell_type": "code",
      "execution_count": null,
      "metadata": {
        "colab": {
          "base_uri": "https://localhost:8080/"
        },
        "id": "ryrucK3HWedS",
        "outputId": "f41cd863-df7b-4411-a9e6-b70471160817"
      },
      "outputs": [
        {
          "output_type": "stream",
          "name": "stdout",
          "text": [
            "Enter the real part of the first complex number: 75\n",
            "Enter the imaginary part of the first complex number: 5\n",
            "Enter the real part of the second complex number: 69\n",
            "Enter the imaginary part of the second complex number: 9\n",
            "\n",
            "First complex number: (75+5j)\n",
            "Second complex number: (69+9j)\n",
            "Sum of the complex numbers: (144+14j)\n",
            "Product of the complex numbers: (5130+1020j)\n"
          ]
        }
      ],
      "source": [
        "# Program to add and multiply complex numbers\n",
        "\n",
        "real1 = int(input(\"Enter the real part of the first complex number: \"))\n",
        "imag1 = int(input(\"Enter the imaginary part of the first complex number: \"))\n",
        "\n",
        "\n",
        "real2 = int(input(\"Enter the real part of the second complex number: \"))\n",
        "imag2 = int (input(\"Enter the imaginary part of the second complex number: \"))\n",
        "\n",
        "\n",
        "c1 = complex(real1, imag1)\n",
        "c2 = complex(real2, imag2)\n",
        "\n",
        "# Performing addition\n",
        "sum_result = c1 + c2\n",
        "\n",
        "# Performing multiplication\n",
        "product_result = c1 * c2\n",
        "\n",
        "# Displaying results\n",
        "print(f\"\\nFirst complex number: {c1}\")\n",
        "print(f\"Second complex number: {c2}\")\n",
        "print(f\"Sum of the complex numbers: {sum_result}\")\n",
        "print(f\"Product of the complex numbers: {product_result}\")"
      ]
    },
    {
      "cell_type": "code",
      "source": [
        "main_string=input(\"enter the main string:\")\n",
        "sub_string=input(\" enter the sub string to search:\")\n",
        "if sub_string in main_string:\n",
        "   print(f\"the sub string`{sub_string}` is present in the string\")\n",
        "else:\n",
        "   print(f\"the sub string`{sub_string}` is not present in the string \")"
      ],
      "metadata": {
        "colab": {
          "base_uri": "https://localhost:8080/"
        },
        "id": "5w9dQuUWWmIO",
        "outputId": "631721bc-b7c4-428d-8c98-9226ebaf609d"
      },
      "execution_count": null,
      "outputs": [
        {
          "output_type": "stream",
          "name": "stdout",
          "text": [
            "enter the main string:REENA\n",
            " enter the sub string to search:R\n",
            "the sub string`R` is present in the string\n"
          ]
        }
      ]
    }
  ]
}