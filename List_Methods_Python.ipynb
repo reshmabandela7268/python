{
  "nbformat": 4,
  "nbformat_minor": 0,
  "metadata": {
    "colab": {
      "provenance": [],
      "authorship_tag": "ABX9TyP6QsGNXJrFdA8VjXDjoaYU",
      "include_colab_link": true
    },
    "kernelspec": {
      "name": "python3",
      "display_name": "Python 3"
    },
    "language_info": {
      "name": "python"
    }
  },
  "cells": [
    {
      "cell_type": "markdown",
      "metadata": {
        "id": "view-in-github",
        "colab_type": "text"
      },
      "source": [
        "<a href=\"https://colab.research.google.com/github/reshmabandela7268/python/blob/main/List_Methods_Python.ipynb\" target=\"_parent\"><img src=\"https://colab.research.google.com/assets/colab-badge.svg\" alt=\"Open In Colab\"/></a>"
      ]
    },
    {
      "cell_type": "code",
      "source": [
        "#list method-append\n",
        "\n",
        "a=[\"APPLE\",\"GRAPES\",\"CHERRY\"]\n",
        "\n",
        "b=[\"BMW\",\"DZIRE\",\"FORD\",\"VOLVO\"]\n",
        "\n",
        "a.append(b)\n",
        "\n",
        "print(a)"
      ],
      "metadata": {
        "colab": {
          "base_uri": "https://localhost:8080/"
        },
        "id": "gW1gK3H78xhk",
        "outputId": "9fbdf732-4eab-45f3-918d-e7f4f16e29ae"
      },
      "execution_count": 1,
      "outputs": [
        {
          "output_type": "stream",
          "name": "stdout",
          "text": [
            "['APPLE', 'GRAPES', 'CHERRY', ['BMW', 'DZIRE', 'FORD', 'VOLVO']]\n"
          ]
        }
      ]
    },
    {
      "cell_type": "code",
      "source": [
        "#list method-clear\n",
        "\n",
        "a=[\"Diamond\",\"Gold\",\"Silver\",\"Bronze\"]\n",
        "\n",
        "a.clear()\n",
        "\n",
        "print(a)"
      ],
      "metadata": {
        "colab": {
          "base_uri": "https://localhost:8080/"
        },
        "id": "BsyKIvuW9yBp",
        "outputId": "e4e25aa5-ccc5-4b2a-9c46-31d2b553190a"
      },
      "execution_count": 2,
      "outputs": [
        {
          "output_type": "stream",
          "name": "stdout",
          "text": [
            "[]\n"
          ]
        }
      ]
    },
    {
      "cell_type": "code",
      "source": [
        "#list method-copy\n",
        "\n",
        "x=[\"orange\",\"banana\",\"pineapple\"]\n",
        "\n",
        "x.copy()\n",
        "\n",
        "print(x)"
      ],
      "metadata": {
        "colab": {
          "base_uri": "https://localhost:8080/"
        },
        "id": "NTGVFkhF-qI3",
        "outputId": "e43d7f12-eeb0-4bcf-c829-2997e1e3e8e8"
      },
      "execution_count": 3,
      "outputs": [
        {
          "output_type": "stream",
          "name": "stdout",
          "text": [
            "['orange', 'banana', 'pineapple']\n"
          ]
        }
      ]
    },
    {
      "cell_type": "code",
      "source": [
        "#list method-count\n",
        "\n",
        "a=[\"BMW\",\"DZIRE\",\"THAR\"]\n",
        "\n",
        "b=a.count(\"DZIRE\")\n",
        "\n",
        "print(b)"
      ],
      "metadata": {
        "colab": {
          "base_uri": "https://localhost:8080/"
        },
        "id": "WBYhUFfb_HQN",
        "outputId": "b289e09a-2bd7-452f-963b-fb43b3ba8e8f"
      },
      "execution_count": null,
      "outputs": [
        {
          "output_type": "stream",
          "name": "stdout",
          "text": [
            "1\n"
          ]
        }
      ]
    },
    {
      "cell_type": "code",
      "source": [
        "#list method-extend\n",
        "\n",
        "fruits = ['apple', 'banana', 'cherry']\n",
        "\n",
        "points = (1, 4, 5, 9)\n",
        "\n",
        "fruits.extend(points)\n",
        "\n",
        "print(fruits)\n"
      ],
      "metadata": {
        "colab": {
          "base_uri": "https://localhost:8080/"
        },
        "id": "LHXulud-B6FF",
        "outputId": "a612d60a-9dcd-4382-cf59-a49e29b2a09a"
      },
      "execution_count": 4,
      "outputs": [
        {
          "output_type": "stream",
          "name": "stdout",
          "text": [
            "['apple', 'banana', 'cherry', 1, 4, 5, 9]\n"
          ]
        }
      ]
    },
    {
      "cell_type": "code",
      "source": [
        "#list method-index\n",
        "\n",
        "numbers = [4, 55, 64, 32, 16, 32]\n",
        "\n",
        "x = numbers.index(32)\n",
        "\n",
        "print(x)\n"
      ],
      "metadata": {
        "colab": {
          "base_uri": "https://localhost:8080/"
        },
        "id": "Qf6FiHHTCBl4",
        "outputId": "6bb767b5-51ed-49c6-8acf-11442ecfd28d"
      },
      "execution_count": null,
      "outputs": [
        {
          "output_type": "stream",
          "name": "stdout",
          "text": [
            "3\n"
          ]
        }
      ]
    },
    {
      "cell_type": "code",
      "source": [
        "#list method-insert\n",
        "\n",
        "fruits = ['apple', 'banana', 'cherry']\n",
        "\n",
        "fruits.insert(1, \"orange\")\n",
        "\n",
        "print(fruits)\n"
      ],
      "metadata": {
        "colab": {
          "base_uri": "https://localhost:8080/"
        },
        "id": "tcllTX_sCPkb",
        "outputId": "0ce78848-592d-4ff2-cbbe-2fd570cb04c4"
      },
      "execution_count": null,
      "outputs": [
        {
          "output_type": "stream",
          "name": "stdout",
          "text": [
            "['apple', 'orange', 'banana', 'cherry']\n"
          ]
        }
      ]
    },
    {
      "cell_type": "code",
      "source": [
        "#list method-pop\n",
        "\n",
        "fruits = ['apple', 'banana', 'cherry']\n",
        "\n",
        "x = fruits.pop(1)\n",
        "\n",
        "print(x)\n"
      ],
      "metadata": {
        "colab": {
          "base_uri": "https://localhost:8080/"
        },
        "id": "aRVB3WBnDcyR",
        "outputId": "6b1e002f-979e-4a64-c0ff-649bbbfed901"
      },
      "execution_count": null,
      "outputs": [
        {
          "output_type": "stream",
          "name": "stdout",
          "text": [
            "banana\n"
          ]
        }
      ]
    },
    {
      "cell_type": "code",
      "source": [
        "#list method-remove\n",
        "\n",
        "cars =[\"BMW\",\"DZIRE\",\"THAR\"]\n",
        "\n",
        "cars.remove(\"BMW\")\n",
        "\n",
        "print(cars)\n"
      ],
      "metadata": {
        "colab": {
          "base_uri": "https://localhost:8080/"
        },
        "id": "khusAJhSER8V",
        "outputId": "5b044838-c95b-4096-baa5-7a3002370a2d"
      },
      "execution_count": null,
      "outputs": [
        {
          "output_type": "stream",
          "name": "stdout",
          "text": [
            "['DZIRE', 'THAR']\n"
          ]
        }
      ]
    },
    {
      "cell_type": "code",
      "source": [
        "#list method-reverse\n",
        "\n",
        "a=[\"Diamond\",\"Gold\",\"Silver\",\"Bronze\"]\n",
        "\n",
        "a.reverse()\n",
        "\n",
        "print(a)"
      ],
      "metadata": {
        "colab": {
          "base_uri": "https://localhost:8080/"
        },
        "id": "ks7sPWXcESKD",
        "outputId": "b02bdaba-2781-4d19-eeb2-b437e6b6534d"
      },
      "execution_count": null,
      "outputs": [
        {
          "output_type": "stream",
          "name": "stdout",
          "text": [
            "['Bronze', 'Silver', 'Gold', 'Diamond']\n"
          ]
        }
      ]
    },
    {
      "cell_type": "code",
      "source": [
        "#list method-sort\n",
        "\n",
        "cars = ['Ford', 'BMW', 'Volvo','DZIRE']\n",
        "\n",
        "cars.sort()\n",
        "\n",
        "print(cars)\n"
      ],
      "metadata": {
        "colab": {
          "base_uri": "https://localhost:8080/"
        },
        "id": "LoDnaXJEESUQ",
        "outputId": "9cd02a42-a259-4707-9e3c-935149c953d4"
      },
      "execution_count": null,
      "outputs": [
        {
          "output_type": "stream",
          "name": "stdout",
          "text": [
            "['BMW', 'DZIRE', 'Ford', 'Volvo']\n"
          ]
        }
      ]
    },
    {
      "cell_type": "code",
      "execution_count": null,
      "metadata": {
        "id": "kGjNmRcSimb0"
      },
      "outputs": [],
      "source": []
    }
  ]
}