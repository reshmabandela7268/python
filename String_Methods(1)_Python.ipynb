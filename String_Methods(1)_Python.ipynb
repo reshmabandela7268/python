{
  "nbformat": 4,
  "nbformat_minor": 0,
  "metadata": {
    "colab": {
      "provenance": [],
      "toc_visible": true,
      "authorship_tag": "ABX9TyNjmzi9j3LflC8EVdMT2DrB",
      "include_colab_link": true
    },
    "kernelspec": {
      "name": "python3",
      "display_name": "Python 3"
    },
    "language_info": {
      "name": "python"
    }
  },
  "cells": [
    {
      "cell_type": "markdown",
      "metadata": {
        "id": "view-in-github",
        "colab_type": "text"
      },
      "source": [
        "<a href=\"https://colab.research.google.com/github/reshmabandela7268/python/blob/main/String_Methods(1)_Python.ipynb\" target=\"_parent\"><img src=\"https://colab.research.google.com/assets/colab-badge.svg\" alt=\"Open In Colab\"/></a>"
      ]
    },
    {
      "cell_type": "code",
      "execution_count": null,
      "metadata": {
        "id": "_fdDjm-yTRGu",
        "colab": {
          "base_uri": "https://localhost:8080/"
        },
        "outputId": "25e93dce-2c9d-4a9a-fc8e-1dbc8df82c21"
      },
      "outputs": [
        {
          "output_type": "stream",
          "name": "stdout",
          "text": [
            "My world\n"
          ]
        }
      ],
      "source": [
        "#captilize\n",
        "\n",
        "y= \"my world\"\n",
        "\n",
        "x = y.capitalize()\n",
        "\n",
        "print (x)"
      ]
    },
    {
      "cell_type": "code",
      "execution_count": null,
      "metadata": {
        "colab": {
          "base_uri": "https://localhost:8080/"
        },
        "outputId": "cb782f8c-f9a9-4ed9-fdd0-e7e24b6e836a",
        "id": "MxFSaso3wX2o"
      },
      "outputs": [
        {
          "output_type": "stream",
          "name": "stdout",
          "text": [
            "Reena\n"
          ]
        }
      ],
      "source": [
        "#captilize\n",
        "\n",
        "a= \"reena\"\n",
        "\n",
        "b = a.capitalize()\n",
        "\n",
        "print (b)"
      ]
    },
    {
      "cell_type": "code",
      "source": [
        "#captilize\n",
        "\n",
        "r = \"chinnu\"\n",
        "\n",
        "s = r.capitalize()\n",
        "\n",
        "print (s)"
      ],
      "metadata": {
        "colab": {
          "base_uri": "https://localhost:8080/"
        },
        "id": "_lnuZHRbwXXA",
        "outputId": "78adf5e3-8f3a-47a1-f4e3-5d2118fdf16c"
      },
      "execution_count": null,
      "outputs": [
        {
          "output_type": "stream",
          "name": "stdout",
          "text": [
            "Chinnu\n"
          ]
        }
      ]
    },
    {
      "cell_type": "code",
      "source": [
        "#casefold\n",
        "\n",
        "a= \"Good Morning!\"\n",
        "\n",
        "x = a.casefold()\n",
        "\n",
        "print(x)"
      ],
      "metadata": {
        "colab": {
          "base_uri": "https://localhost:8080/"
        },
        "outputId": "1162550d-6412-42bd-f96a-1bb0207c1398",
        "id": "nGKmeX-ww0oU"
      },
      "execution_count": null,
      "outputs": [
        {
          "output_type": "stream",
          "name": "stdout",
          "text": [
            "good morning!\n"
          ]
        }
      ]
    },
    {
      "cell_type": "code",
      "source": [],
      "metadata": {
        "id": "NQr4a29FxFJ_"
      },
      "execution_count": null,
      "outputs": []
    },
    {
      "cell_type": "code",
      "source": [
        "#casefold\n",
        "\n",
        "a= \"Good Afternoon!\"\n",
        "\n",
        "x = a.casefold()\n",
        "\n",
        "print(x)"
      ],
      "metadata": {
        "colab": {
          "base_uri": "https://localhost:8080/"
        },
        "outputId": "51cc3cd7-8b96-4896-fd16-26d130a35b52",
        "id": "aBSsLb6kxFjq"
      },
      "execution_count": null,
      "outputs": [
        {
          "output_type": "stream",
          "name": "stdout",
          "text": [
            "good afternoon!\n"
          ]
        }
      ]
    },
    {
      "cell_type": "code",
      "source": [
        "#casefold\n",
        "\n",
        "a= \"Good Night!\"\n",
        "\n",
        "x = a.casefold()\n",
        "\n",
        "print(x)"
      ],
      "metadata": {
        "colab": {
          "base_uri": "https://localhost:8080/"
        },
        "id": "c3Ojh-VPqSBD",
        "outputId": "e9467c2e-3948-4955-f3a2-03224d0c9ca5"
      },
      "execution_count": null,
      "outputs": [
        {
          "output_type": "stream",
          "name": "stdout",
          "text": [
            "good night!\n"
          ]
        }
      ]
    },
    {
      "cell_type": "code",
      "source": [
        "#center\n",
        "\n",
        "g= \"apple\"\n",
        "\n",
        "x = g.center(20)\n",
        "\n",
        "print(x)"
      ],
      "metadata": {
        "colab": {
          "base_uri": "https://localhost:8080/"
        },
        "id": "TeOTbYW0qe-Y",
        "outputId": "2e697721-d133-48d8-baab-04a4274281c1"
      },
      "execution_count": null,
      "outputs": [
        {
          "output_type": "stream",
          "name": "stdout",
          "text": [
            "       apple        \n"
          ]
        }
      ]
    },
    {
      "cell_type": "code",
      "source": [
        "#center\n",
        "\n",
        "g= \"Dzire\"\n",
        "\n",
        "x = g.center(10)\n",
        "\n",
        "print(x)"
      ],
      "metadata": {
        "colab": {
          "base_uri": "https://localhost:8080/"
        },
        "outputId": "545e8fe9-aa7e-4a9e-f7c0-e2c432b63785",
        "id": "rZ7RFi8nxXHc"
      },
      "execution_count": null,
      "outputs": [
        {
          "output_type": "stream",
          "name": "stdout",
          "text": [
            "  Dzire   \n"
          ]
        }
      ]
    },
    {
      "cell_type": "code",
      "source": [
        "#center\n",
        "\n",
        "f = \"orange\"\n",
        "\n",
        "x = f.center(30)\n",
        "\n",
        "print(x)"
      ],
      "metadata": {
        "colab": {
          "base_uri": "https://localhost:8080/"
        },
        "outputId": "afd43f2d-ee4d-4a14-8cf1-906198c5cbe2",
        "id": "Svys7mo2xPO_"
      },
      "execution_count": null,
      "outputs": [
        {
          "output_type": "stream",
          "name": "stdout",
          "text": [
            "            orange            \n"
          ]
        }
      ]
    },
    {
      "cell_type": "code",
      "source": [
        "#count\n",
        "\n",
        "z= \"I love apples, apple are my favorite fruit\"\n",
        "\n",
        "x = z.count(\"apple\")\n",
        "\n",
        "print(x)"
      ],
      "metadata": {
        "colab": {
          "base_uri": "https://localhost:8080/"
        },
        "id": "AVlrP0cgqlUM",
        "outputId": "b7f688b6-3a85-458e-e7b5-b7903fb70dd6"
      },
      "execution_count": null,
      "outputs": [
        {
          "output_type": "stream",
          "name": "stdout",
          "text": [
            "2\n"
          ]
        }
      ]
    },
    {
      "cell_type": "code",
      "source": [
        "#count\n",
        "\n",
        "z= \"I love music, music is my world\"\n",
        "\n",
        "x = z.count(\"music\")\n",
        "\n",
        "print(x)"
      ],
      "metadata": {
        "colab": {
          "base_uri": "https://localhost:8080/"
        },
        "id": "w91vVTtrxNN-",
        "outputId": "92da7a72-7cb0-4f3d-f3ce-85dde4c536b8"
      },
      "execution_count": null,
      "outputs": [
        {
          "output_type": "stream",
          "name": "stdout",
          "text": [
            "2\n"
          ]
        }
      ]
    },
    {
      "cell_type": "code",
      "source": [
        "#count\n",
        "\n",
        "z= \"I like pencil art,pencil artist is called a penciller \"\n",
        "\n",
        "x = z.count(\"pencil\")\n",
        "\n",
        "print(x)"
      ],
      "metadata": {
        "colab": {
          "base_uri": "https://localhost:8080/"
        },
        "id": "5r0RgLRWxuJ5",
        "outputId": "ba950622-0407-46f0-c03a-75e0fca05312"
      },
      "execution_count": null,
      "outputs": [
        {
          "output_type": "stream",
          "name": "stdout",
          "text": [
            "3\n"
          ]
        }
      ]
    },
    {
      "cell_type": "code",
      "source": [
        "#encode\n",
        "\n",
        "r= \"My name is Rēshmā\"\n",
        "\n",
        "x = r.encode()\n",
        "\n",
        "print(x)"
      ],
      "metadata": {
        "colab": {
          "base_uri": "https://localhost:8080/"
        },
        "id": "vCcmrCegqrx1",
        "outputId": "d6d9daae-0bd4-453a-acbe-3e7e708331e8"
      },
      "execution_count": null,
      "outputs": [
        {
          "output_type": "stream",
          "name": "stdout",
          "text": [
            "b'My name is R\\xc4\\x93shm\\xc4\\x81'\n"
          ]
        }
      ]
    },
    {
      "cell_type": "code",
      "source": [
        "#encode\n",
        "\n",
        "r= \"My name is reena\"\n",
        "\n",
        "x = r.encode()\n",
        "\n",
        "print(x)"
      ],
      "metadata": {
        "colab": {
          "base_uri": "https://localhost:8080/"
        },
        "id": "WjI7lX6yyRr0",
        "outputId": "433ba50d-98c8-46f3-ad16-011062b3c216"
      },
      "execution_count": null,
      "outputs": [
        {
          "output_type": "stream",
          "name": "stdout",
          "text": [
            "b'My name is reena'\n"
          ]
        }
      ]
    },
    {
      "cell_type": "code",
      "source": [
        "#encode\n",
        "\n",
        "r= \"My name is Rēshmā\"\n",
        "\n",
        "x = r.encode()\n",
        "\n",
        "print(x)"
      ],
      "metadata": {
        "id": "XTCNj1ooyesc"
      },
      "execution_count": null,
      "outputs": []
    },
    {
      "cell_type": "code",
      "source": [
        "#endswith\n",
        "\n",
        "i= \"Hello, welcome to my world.\"\n",
        "\n",
        "s = i.endswith(\"my world.\")\n",
        "\n",
        "print(s)"
      ],
      "metadata": {
        "colab": {
          "base_uri": "https://localhost:8080/"
        },
        "id": "vTCeFK2XqvnQ",
        "outputId": "a6175f79-bff8-47c0-b462-144d0403a4fa"
      },
      "execution_count": null,
      "outputs": [
        {
          "output_type": "stream",
          "name": "stdout",
          "text": [
            "True\n"
          ]
        }
      ]
    },
    {
      "cell_type": "code",
      "source": [
        "#endswith\n",
        "\n",
        "i= \"Hello,world.\"\n",
        "\n",
        "s = i.endswith(\"Hello\")\n",
        "\n",
        "print(s)"
      ],
      "metadata": {
        "colab": {
          "base_uri": "https://localhost:8080/"
        },
        "id": "XTFK7j6wyiY5",
        "outputId": "cb6ee169-e109-4824-801a-2b366a45cc71"
      },
      "execution_count": null,
      "outputs": [
        {
          "output_type": "stream",
          "name": "stdout",
          "text": [
            "False\n"
          ]
        }
      ]
    },
    {
      "cell_type": "code",
      "source": [
        "#endswith\n",
        "\n",
        "i= \"music is my best friend.\"\n",
        "\n",
        "s = i.endswith(\"best friend.\")\n",
        "\n",
        "print(s)"
      ],
      "metadata": {
        "colab": {
          "base_uri": "https://localhost:8080/"
        },
        "id": "U7X-ZBHSyq1S",
        "outputId": "7bb12ba8-c128-4861-a782-f7c55650cea6"
      },
      "execution_count": null,
      "outputs": [
        {
          "output_type": "stream",
          "name": "stdout",
          "text": [
            "True\n"
          ]
        }
      ]
    },
    {
      "cell_type": "code",
      "source": [
        "#expandtabs\n",
        "\n",
        "txt = \"H\\te\\tl\\tl\\to\"\n",
        "\n",
        "x =  txt.expandtabs(2)\n",
        "\n",
        "print(x)\n"
      ],
      "metadata": {
        "colab": {
          "base_uri": "https://localhost:8080/"
        },
        "id": "UYcgLMBvrg8Q",
        "outputId": "f8fa7df7-454b-4f8c-a0c3-ce2ebcd96ed9"
      },
      "execution_count": null,
      "outputs": [
        {
          "output_type": "stream",
          "name": "stdout",
          "text": [
            "H e l l o\n"
          ]
        }
      ]
    },
    {
      "cell_type": "code",
      "source": [
        "#expandtabs\n",
        "\n",
        "txt = \"r\\te\\te\\tn\\ta\"\n",
        "\n",
        "x =  txt.expandtabs(2)\n",
        "\n",
        "print(x)\n"
      ],
      "metadata": {
        "colab": {
          "base_uri": "https://localhost:8080/"
        },
        "id": "tixVRYZHy3Hf",
        "outputId": "c30e7d19-f42e-4768-fbf7-7941a6a68026"
      },
      "execution_count": null,
      "outputs": [
        {
          "output_type": "stream",
          "name": "stdout",
          "text": [
            "r e e n a\n"
          ]
        }
      ]
    },
    {
      "cell_type": "code",
      "source": [
        "#expandtabs\n",
        "\n",
        "txt = \"p\\ta\\tn\\td\\tu\"\n",
        "\n",
        "x =  txt.expandtabs(2)\n",
        "\n",
        "print(x)\n"
      ],
      "metadata": {
        "colab": {
          "base_uri": "https://localhost:8080/"
        },
        "id": "RjlISAQ8y4JT",
        "outputId": "192b5215-e55a-48f4-84ae-595ee66e1b03"
      },
      "execution_count": null,
      "outputs": [
        {
          "output_type": "stream",
          "name": "stdout",
          "text": [
            "p a n d u\n"
          ]
        }
      ]
    },
    {
      "cell_type": "code",
      "source": [
        "#find\n",
        "\n",
        "txt = \" music\"\n",
        "\n",
        "x = txt.find(\"i\")\n",
        "\n",
        "print(x)\n"
      ],
      "metadata": {
        "colab": {
          "base_uri": "https://localhost:8080/"
        },
        "id": "ehYCVBeAr4DH",
        "outputId": "52017de4-7cff-4586-b1d7-39e56bbeb6c7"
      },
      "execution_count": null,
      "outputs": [
        {
          "output_type": "stream",
          "name": "stdout",
          "text": [
            "4\n"
          ]
        }
      ]
    },
    {
      "cell_type": "code",
      "source": [
        "#find\n",
        "\n",
        "txt = \"world\"\n",
        "\n",
        "a = txt.find(\"r\")\n",
        "\n",
        "print(a)\n"
      ],
      "metadata": {
        "colab": {
          "base_uri": "https://localhost:8080/"
        },
        "id": "qXhAH3CDzIMZ",
        "outputId": "e06649c2-2cfc-4a9c-823a-323e035fc4b9"
      },
      "execution_count": null,
      "outputs": [
        {
          "output_type": "stream",
          "name": "stdout",
          "text": [
            "2\n"
          ]
        }
      ]
    },
    {
      "cell_type": "code",
      "source": [
        "#find\n",
        "\n",
        "txt = \" lyrics \"\n",
        "\n",
        "b = txt.find(\"i\")\n",
        "\n",
        "print(b)\n"
      ],
      "metadata": {
        "colab": {
          "base_uri": "https://localhost:8080/"
        },
        "id": "U3ju58fBzIal",
        "outputId": "1b932b65-11af-46bd-d976-7a67b1999e0d"
      },
      "execution_count": null,
      "outputs": [
        {
          "output_type": "stream",
          "name": "stdout",
          "text": [
            "4\n"
          ]
        }
      ]
    },
    {
      "cell_type": "code",
      "source": [
        "#index\n",
        "\n",
        "txt=(\"Diamond\")\n",
        "\n",
        "a=txt.index(\"a\")\n",
        "\n",
        "print(a)\n"
      ],
      "metadata": {
        "colab": {
          "base_uri": "https://localhost:8080/"
        },
        "id": "YA_GSSsgspSt",
        "outputId": "09618217-0de2-4b66-c2b6-18b8d5b7f76a"
      },
      "execution_count": null,
      "outputs": [
        {
          "output_type": "stream",
          "name": "stdout",
          "text": [
            "2\n"
          ]
        }
      ]
    },
    {
      "cell_type": "code",
      "source": [
        "#index\n",
        "\n",
        "txt=(\"Dzire\")\n",
        "\n",
        "car=txt.index(\"e\")\n",
        "\n",
        "print(car)"
      ],
      "metadata": {
        "colab": {
          "base_uri": "https://localhost:8080/"
        },
        "id": "K57ALtw1zaA5",
        "outputId": "87c2bd50-8b16-4007-81a8-ef8a92812fd7"
      },
      "execution_count": null,
      "outputs": [
        {
          "output_type": "stream",
          "name": "stdout",
          "text": [
            "4\n"
          ]
        }
      ]
    },
    {
      "cell_type": "code",
      "source": [
        "#index\n",
        "\n",
        "str = \"Hello, welcome to my world.\"\n",
        "\n",
        "x = str.index(\"welcome\")\n",
        "\n",
        "print(x)\n"
      ],
      "metadata": {
        "colab": {
          "base_uri": "https://localhost:8080/"
        },
        "id": "iqvG6Gyas5x_",
        "outputId": "822b1b5e-d31c-411b-b8bc-65c0cdd4e1cd"
      },
      "execution_count": null,
      "outputs": [
        {
          "output_type": "stream",
          "name": "stdout",
          "text": [
            "7\n"
          ]
        }
      ]
    },
    {
      "cell_type": "code",
      "source": [
        "#isalnum\n",
        "\n",
        "txt = \"Company12\"\n",
        "\n",
        "x = txt.isalnum()\n",
        "\n",
        "print(x)\n"
      ],
      "metadata": {
        "colab": {
          "base_uri": "https://localhost:8080/"
        },
        "id": "9C-iBoPlswfJ",
        "outputId": "a10bd378-14ff-4d25-9ce2-8038d725ceee"
      },
      "execution_count": null,
      "outputs": [
        {
          "output_type": "stream",
          "name": "stdout",
          "text": [
            "True\n"
          ]
        }
      ]
    },
    {
      "cell_type": "code",
      "source": [
        "#isalnum\n",
        "\n",
        "txt = \"Music143\"\n",
        "\n",
        "r = txt.isalnum()\n",
        "\n",
        "print(r)\n"
      ],
      "metadata": {
        "colab": {
          "base_uri": "https://localhost:8080/"
        },
        "id": "4q0SZ_S_z-3X",
        "outputId": "7a9ad752-c585-4a1d-b883-a4057ae07ba8"
      },
      "execution_count": null,
      "outputs": [
        {
          "output_type": "stream",
          "name": "stdout",
          "text": [
            "True\n"
          ]
        }
      ]
    },
    {
      "cell_type": "code",
      "source": [
        "#isalnum\n",
        "\n",
        "txt = \"Hope7268\"\n",
        "\n",
        "b = txt.isalnum()\n",
        "\n",
        "print(b)\n"
      ],
      "metadata": {
        "colab": {
          "base_uri": "https://localhost:8080/"
        },
        "id": "Y0tQUVIJ0Fmz",
        "outputId": "adf81c66-9472-4647-ebd5-b01f1f109251"
      },
      "execution_count": null,
      "outputs": [
        {
          "output_type": "stream",
          "name": "stdout",
          "text": [
            "True\n"
          ]
        }
      ]
    },
    {
      "cell_type": "code",
      "source": [
        "#isalpha\n",
        "\n",
        "txt = \"CompanyX\"\n",
        "\n",
        "x = txt.isalpha()\n",
        "\n",
        "print(x)\n"
      ],
      "metadata": {
        "colab": {
          "base_uri": "https://localhost:8080/"
        },
        "id": "R0ymlfZdtJNR",
        "outputId": "9e7d2218-e18e-4f35-a936-bef46191bcd8"
      },
      "execution_count": null,
      "outputs": [
        {
          "output_type": "stream",
          "name": "stdout",
          "text": [
            "True\n"
          ]
        }
      ]
    },
    {
      "cell_type": "code",
      "source": [
        "#isalpha\n",
        "\n",
        "str = \"python\"\n",
        "\n",
        "y = str.isalpha()\n",
        "\n",
        "print(y)\n"
      ],
      "metadata": {
        "colab": {
          "base_uri": "https://localhost:8080/"
        },
        "id": "2BPVSlaj0P6Z",
        "outputId": "02075419-8428-4406-de44-db31d19ea82a"
      },
      "execution_count": null,
      "outputs": [
        {
          "output_type": "stream",
          "name": "stdout",
          "text": [
            "True\n"
          ]
        }
      ]
    },
    {
      "cell_type": "code",
      "source": [
        "#isalpha\n",
        "\n",
        "txt = \"Realme\"\n",
        "\n",
        "b = txt.isalpha()\n",
        "\n",
        "print(b)\n"
      ],
      "metadata": {
        "colab": {
          "base_uri": "https://localhost:8080/"
        },
        "id": "cid53xnK0Yu-",
        "outputId": "e6932d8b-196c-4cbf-abb9-3c5b8917615e"
      },
      "execution_count": null,
      "outputs": [
        {
          "output_type": "stream",
          "name": "stdout",
          "text": [
            "True\n"
          ]
        }
      ]
    },
    {
      "cell_type": "code",
      "source": [
        "#isascii\n",
        "\n",
        "txt = \"Orange123\"\n",
        "\n",
        "x = txt.isascii()\n",
        "\n",
        "print(x)\n"
      ],
      "metadata": {
        "colab": {
          "base_uri": "https://localhost:8080/"
        },
        "id": "9CuyGj_qtW1w",
        "outputId": "08727ddf-c3f5-4e26-fd85-2104ae60e94c"
      },
      "execution_count": null,
      "outputs": [
        {
          "output_type": "stream",
          "name": "stdout",
          "text": [
            "True\n"
          ]
        }
      ]
    },
    {
      "cell_type": "code",
      "source": [
        "#isascii\n",
        "\n",
        "txt = \"Company123\"\n",
        "\n",
        "x = txt.isascii()\n",
        "\n",
        "print(x)\n"
      ],
      "metadata": {
        "colab": {
          "base_uri": "https://localhost:8080/"
        },
        "id": "f0B0QLq-09G5",
        "outputId": "49967c50-dab2-4763-fd23-1a097b75b4a3"
      },
      "execution_count": 5,
      "outputs": [
        {
          "output_type": "stream",
          "name": "stdout",
          "text": [
            "True\n"
          ]
        }
      ]
    },
    {
      "cell_type": "code",
      "source": [
        "#isascii\n",
        "\n",
        "txt = \"Rose\"\n",
        "\n",
        "x = txt.isascii()\n",
        "\n",
        "print(x)\n"
      ],
      "metadata": {
        "colab": {
          "base_uri": "https://localhost:8080/"
        },
        "id": "aC5-pf-90_L0",
        "outputId": "2e564100-360e-4391-d533-ee132acb8007"
      },
      "execution_count": 4,
      "outputs": [
        {
          "output_type": "stream",
          "name": "stdout",
          "text": [
            "True\n"
          ]
        }
      ]
    },
    {
      "cell_type": "code",
      "source": [
        "#isdecimal\n",
        "\n",
        "txt = \"7268\"\n",
        "\n",
        "x = txt.isdecimal()\n",
        "\n",
        "print(x)\n"
      ],
      "metadata": {
        "colab": {
          "base_uri": "https://localhost:8080/"
        },
        "id": "D7DApgFttspM",
        "outputId": "267f4a7a-4151-4d05-ab8a-fb96fc2cf69d"
      },
      "execution_count": null,
      "outputs": [
        {
          "output_type": "stream",
          "name": "stdout",
          "text": [
            "True\n"
          ]
        }
      ]
    },
    {
      "cell_type": "code",
      "source": [
        "#isdecimal\n",
        "\n",
        "txt = \"4969\"\n",
        "\n",
        "x = txt.isdecimal()\n",
        "\n",
        "print(x)\n"
      ],
      "metadata": {
        "colab": {
          "base_uri": "https://localhost:8080/"
        },
        "id": "MzTjCV8o1Gii",
        "outputId": "2c2f3e96-df9d-4c1e-ce7e-72b596b8e2fe"
      },
      "execution_count": null,
      "outputs": [
        {
          "output_type": "stream",
          "name": "stdout",
          "text": [
            "True\n"
          ]
        }
      ]
    },
    {
      "cell_type": "code",
      "source": [
        "#isdecimal\n",
        "\n",
        "txt = \"6459\"\n",
        "\n",
        "x = txt.isdecimal()\n",
        "\n",
        "print(x)\n"
      ],
      "metadata": {
        "colab": {
          "base_uri": "https://localhost:8080/"
        },
        "id": "R0z9yEhc1Jz_",
        "outputId": "5879f14f-c1bb-47c1-8742-d396847c705b"
      },
      "execution_count": null,
      "outputs": [
        {
          "output_type": "stream",
          "name": "stdout",
          "text": [
            "True\n"
          ]
        }
      ]
    },
    {
      "cell_type": "code",
      "source": [
        "#isdigit\n",
        "\n",
        "str = \"50800\"\n",
        "\n",
        "x = str.isdigit()\n",
        "\n",
        "print(x)\n"
      ],
      "metadata": {
        "colab": {
          "base_uri": "https://localhost:8080/"
        },
        "id": "aKn6bEYOt7Uy",
        "outputId": "67cd9531-1150-4537-afd4-9ba9c940cfd1"
      },
      "execution_count": null,
      "outputs": [
        {
          "output_type": "stream",
          "name": "stdout",
          "text": [
            "True\n"
          ]
        }
      ]
    },
    {
      "cell_type": "code",
      "source": [
        "#isdigit\n",
        "\n",
        "str = \"5007\"\n",
        "\n",
        "x = str.isdigit()\n",
        "\n",
        "print(x)\n"
      ],
      "metadata": {
        "colab": {
          "base_uri": "https://localhost:8080/"
        },
        "id": "57H02nTw1P0R",
        "outputId": "d8017c67-22f4-49d6-f24f-9c4244f16305"
      },
      "execution_count": null,
      "outputs": [
        {
          "output_type": "stream",
          "name": "stdout",
          "text": [
            "True\n"
          ]
        }
      ]
    },
    {
      "cell_type": "code",
      "source": [
        "#isdigit\n",
        "\n",
        "str = \"7268\"\n",
        "\n",
        "x = str.isdigit()\n",
        "\n",
        "print(x)\n"
      ],
      "metadata": {
        "colab": {
          "base_uri": "https://localhost:8080/"
        },
        "id": "Tq0VeTCN1Sjq",
        "outputId": "54cc8a73-a4e9-40bf-f4b4-eff8e48b73d3"
      },
      "execution_count": null,
      "outputs": [
        {
          "output_type": "stream",
          "name": "stdout",
          "text": [
            "True\n"
          ]
        }
      ]
    },
    {
      "cell_type": "code",
      "source": [
        "#isidentifier\n",
        "\n",
        "txt = \"Folder\"\n",
        "\n",
        "x = txt.isidentifier()\n",
        "\n",
        "print(x)\n"
      ],
      "metadata": {
        "colab": {
          "base_uri": "https://localhost:8080/"
        },
        "id": "-7gh5IDgvDt7",
        "outputId": "588f9957-a95e-4939-ad09-f8945e682acc"
      },
      "execution_count": null,
      "outputs": [
        {
          "output_type": "stream",
          "name": "stdout",
          "text": [
            "True\n"
          ]
        }
      ]
    },
    {
      "cell_type": "code",
      "source": [
        "#isidentifier\n",
        "\n",
        "txt = \"Beatiful\"\n",
        "\n",
        "x = txt.isidentifier()\n",
        "\n",
        "print(x)\n"
      ],
      "metadata": {
        "colab": {
          "base_uri": "https://localhost:8080/"
        },
        "id": "3qxyGD7s1W9h",
        "outputId": "20ac1bc1-f687-44db-cb48-b16ff7b09cd4"
      },
      "execution_count": null,
      "outputs": [
        {
          "output_type": "stream",
          "name": "stdout",
          "text": [
            "True\n"
          ]
        }
      ]
    },
    {
      "cell_type": "code",
      "source": [
        "#isidentifier\n",
        "\n",
        "txt = \"Wonderful\"\n",
        "\n",
        "x = txt.isidentifier()\n",
        "\n",
        "print(x)\n"
      ],
      "metadata": {
        "colab": {
          "base_uri": "https://localhost:8080/"
        },
        "id": "K1vOxtGM1b6x",
        "outputId": "18a56cda-954a-4d73-f3f6-777bba66299a"
      },
      "execution_count": null,
      "outputs": [
        {
          "output_type": "stream",
          "name": "stdout",
          "text": [
            "True\n"
          ]
        }
      ]
    },
    {
      "cell_type": "code",
      "source": [
        "#islower\n",
        "\n",
        "str = \"hello world!\"\n",
        "\n",
        "y = str.islower()\n",
        "\n",
        "print(y)"
      ],
      "metadata": {
        "colab": {
          "base_uri": "https://localhost:8080/"
        },
        "id": "A9tIFU9_vQqz",
        "outputId": "440d4f47-f261-4af8-f4a8-8905dc676e72"
      },
      "execution_count": null,
      "outputs": [
        {
          "output_type": "stream",
          "name": "stdout",
          "text": [
            "True\n"
          ]
        }
      ]
    },
    {
      "cell_type": "code",
      "source": [
        "#islower\n",
        "\n",
        "str = \"flowers\"\n",
        "\n",
        "y = str.islower()\n",
        "\n",
        "print(y)"
      ],
      "metadata": {
        "colab": {
          "base_uri": "https://localhost:8080/"
        },
        "id": "p8BLw5oh1h8u",
        "outputId": "10bc53a4-8b10-4dde-ce20-4ede78b2a63d"
      },
      "execution_count": null,
      "outputs": [
        {
          "output_type": "stream",
          "name": "stdout",
          "text": [
            "True\n"
          ]
        }
      ]
    },
    {
      "cell_type": "code",
      "source": [
        "#islower\n",
        "\n",
        "str = \"Moon\"\n",
        "\n",
        "y = str.islower()\n",
        "\n",
        "print(y)"
      ],
      "metadata": {
        "colab": {
          "base_uri": "https://localhost:8080/"
        },
        "id": "ABYWclbJ1mYy",
        "outputId": "330c64e8-353d-4c34-a156-8b7fc4116512"
      },
      "execution_count": null,
      "outputs": [
        {
          "output_type": "stream",
          "name": "stdout",
          "text": [
            "False\n"
          ]
        }
      ]
    },
    {
      "cell_type": "code",
      "source": [
        "#isnumeric\n",
        "\n",
        "num = \"565543\"\n",
        "\n",
        "x = num.isnumeric()\n",
        "\n",
        "print(x)\n"
      ],
      "metadata": {
        "colab": {
          "base_uri": "https://localhost:8080/"
        },
        "id": "Giv9drpNvdIa",
        "outputId": "b7d94d60-bf22-4f9c-895b-88ceae6d41be"
      },
      "execution_count": null,
      "outputs": [
        {
          "output_type": "stream",
          "name": "stdout",
          "text": [
            "True\n"
          ]
        }
      ]
    },
    {
      "cell_type": "code",
      "source": [
        "#isnumeric\n",
        "\n",
        "num = \"5699\"\n",
        "\n",
        "x = num.isnumeric()\n",
        "\n",
        "print(x)\n"
      ],
      "metadata": {
        "colab": {
          "base_uri": "https://localhost:8080/"
        },
        "id": "rgv0Glcc1vsi",
        "outputId": "a3eb59d7-d982-4cf2-feae-b69f36586abc"
      },
      "execution_count": null,
      "outputs": [
        {
          "output_type": "stream",
          "name": "stdout",
          "text": [
            "True\n"
          ]
        }
      ]
    },
    {
      "cell_type": "code",
      "source": [
        "#isnumeric\n",
        "\n",
        "num = \"7268\"\n",
        "\n",
        "x = num.isnumeric()\n",
        "\n",
        "print(x)\n"
      ],
      "metadata": {
        "colab": {
          "base_uri": "https://localhost:8080/"
        },
        "id": "PpgKAlKj1yM_",
        "outputId": "c00a060a-e09d-4913-f183-a430f6e64e1c"
      },
      "execution_count": null,
      "outputs": [
        {
          "output_type": "stream",
          "name": "stdout",
          "text": [
            "True\n"
          ]
        }
      ]
    },
    {
      "cell_type": "code",
      "source": [
        "#isprintable\n",
        "\n",
        "str = \"Good morning to everyone\"\n",
        "\n",
        "x = str.isprintable()\n",
        "\n",
        "print(x)\n"
      ],
      "metadata": {
        "colab": {
          "base_uri": "https://localhost:8080/"
        },
        "id": "5b_GNMSfvvQb",
        "outputId": "09f22c2a-952b-4da9-d4a6-ff1a3a252338"
      },
      "execution_count": 1,
      "outputs": [
        {
          "output_type": "stream",
          "name": "stdout",
          "text": [
            "True\n"
          ]
        }
      ]
    },
    {
      "cell_type": "code",
      "source": [
        "#isprintable\n",
        "\n",
        "str = \"what are you doing?\"\n",
        "\n",
        "x = str.isprintable()\n",
        "\n",
        "print(x)\n"
      ],
      "metadata": {
        "id": "9syMvzVS12eG",
        "colab": {
          "base_uri": "https://localhost:8080/"
        },
        "outputId": "d3e3ab0d-ce72-472a-e3f5-275db393c623"
      },
      "execution_count": 2,
      "outputs": [
        {
          "output_type": "stream",
          "name": "stdout",
          "text": [
            "True\n"
          ]
        }
      ]
    },
    {
      "cell_type": "code",
      "source": [
        "#isprintable\n",
        "\n",
        "str = \"cyber security\"\n",
        "\n",
        "x = str.isprintable()\n",
        "\n",
        "print(x)\n"
      ],
      "metadata": {
        "id": "CWrp4u-615B5",
        "colab": {
          "base_uri": "https://localhost:8080/"
        },
        "outputId": "681f3473-05b3-49c4-a140-a0c6014f1e12"
      },
      "execution_count": 3,
      "outputs": [
        {
          "output_type": "stream",
          "name": "stdout",
          "text": [
            "True\n"
          ]
        }
      ]
    },
    {
      "cell_type": "code",
      "source": [
        "#isspace\n",
        "\n",
        "str = \"   \"\n",
        "\n",
        "x = str.isspace()\n",
        "\n",
        "print(x)\n"
      ],
      "metadata": {
        "colab": {
          "base_uri": "https://localhost:8080/"
        },
        "id": "mMiElf59v-7n",
        "outputId": "53817f97-8cb3-4f4d-9929-45735dba3249"
      },
      "execution_count": null,
      "outputs": [
        {
          "output_type": "stream",
          "name": "stdout",
          "text": [
            "True\n"
          ]
        }
      ]
    },
    {
      "cell_type": "code",
      "source": [
        "#isspace\n",
        "\n",
        "txt = \"   \"\n",
        "\n",
        "x = txt.isspace()\n",
        "\n",
        "print(x)\n"
      ],
      "metadata": {
        "colab": {
          "base_uri": "https://localhost:8080/"
        },
        "id": "u0Y8rlNz18TD",
        "outputId": "46677ec6-d0ff-447a-de76-7406447c9e2f"
      },
      "execution_count": null,
      "outputs": [
        {
          "output_type": "stream",
          "name": "stdout",
          "text": [
            "True\n"
          ]
        }
      ]
    },
    {
      "cell_type": "code",
      "source": [
        "#isspace\n",
        "\n",
        "car = \"   \"\n",
        "\n",
        "x = car.isspace()\n",
        "\n",
        "print(x)\n"
      ],
      "metadata": {
        "colab": {
          "base_uri": "https://localhost:8080/"
        },
        "id": "DIMlbm6Q18VI",
        "outputId": "43901b25-6c39-4af5-f559-1811e0b4cb8a"
      },
      "execution_count": null,
      "outputs": [
        {
          "output_type": "stream",
          "name": "stdout",
          "text": [
            "True\n"
          ]
        }
      ]
    }
  ]
}